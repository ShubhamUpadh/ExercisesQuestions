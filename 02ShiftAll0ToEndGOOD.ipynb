{
 "cells": [
  {
   "cell_type": "code",
   "execution_count": null,
   "id": "96e49e72",
   "metadata": {},
   "outputs": [],
   "source": [
    "def moveZeroes(self, nums: List[int]) -> None:\n",
    "        \"\"\"\n",
    "        Do not return anything, modify nums in-place instead.\n",
    "        \"\"\"\n",
    "        slow = 0\n",
    "        while slow < len(nums):\n",
    "            if nums[slow] == 0:\n",
    "                break\n",
    "            slow += 1\n",
    "        else:\n",
    "            print(\"here\")\n",
    "            return\n",
    "        fast = slow\n",
    "        while fast < len(nums):\n",
    "            if nums[fast] == 0:\n",
    "                fast += 1\n",
    "                continue\n",
    "            nums[fast], nums[slow] = nums[slow], nums[fast]\n",
    "            slow = slow + 1\n",
    "            fast = fast + 1"
   ]
  }
 ],
 "metadata": {
  "kernelspec": {
   "display_name": "Python 3 (ipykernel)",
   "language": "python",
   "name": "python3"
  },
  "language_info": {
   "codemirror_mode": {
    "name": "ipython",
    "version": 3
   },
   "file_extension": ".py",
   "mimetype": "text/x-python",
   "name": "python",
   "nbconvert_exporter": "python",
   "pygments_lexer": "ipython3",
   "version": "3.9.7"
  }
 },
 "nbformat": 4,
 "nbformat_minor": 5
}
