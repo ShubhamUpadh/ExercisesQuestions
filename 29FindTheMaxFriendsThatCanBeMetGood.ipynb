{
  "nbformat": 4,
  "nbformat_minor": 0,
  "metadata": {
    "colab": {
      "provenance": []
    },
    "kernelspec": {
      "name": "python3",
      "display_name": "Python 3"
    },
    "language_info": {
      "name": "python"
    }
  },
  "cells": [
    {
      "cell_type": "code",
      "execution_count": null,
      "metadata": {
        "id": "7l0U0GVlztlg"
      },
      "outputs": [],
      "source": [
        "'''https://www.naukri.com/code360/problems/kurapika-and-friends_2279827?leftPanelTabValue=PROBLEM\n",
        "Kurapika is long lost from his friends. He wants to meet his friends. He has total ‘n’ friends, and everyone is not available on the same day. But he can meet his friends only once. Given two arrays, ‘s’ and ‘e’, where s[i] denotes the starting date when an ith friend is available, and e[i] denotes when the ith friend will not be available after this date. Help Kurapika to know what is the maximum number of friends he can meet on one single day.\n",
        "For Example :\n",
        "\n",
        "s = {1, 4, 11} e = {9, 5, 13}\n",
        "\n",
        "In the given example, the first friend is available between dates 1 to 9, the second is available on dates 4 and 5, and the third is available on dates 11 to 13. Hence he can meet a maximum of only two friends on dates 4 and 5.\n",
        "\n",
        "Hence the answer is 2.\n",
        "'''\n",
        "\n",
        "\n",
        "def maxFriends(n: int, s: List[int], e: List[int]) -> int:\n",
        "    # write your code here\n",
        "    availArr = []\n",
        "    for start, end in zip(s,e):\n",
        "        availArr.append((start,1))\n",
        "        availArr.append((end+1,-1))   # end + 1 kyuki hum friend ko uss din bhi mil skte hai\n",
        "    counter, maxF = 0, 0\n",
        "    availArr.sort()\n",
        "    for status in availArr:\n",
        "        counter += status[1]\n",
        "        maxF = max(maxF,counter)\n",
        "    return maxF\n"
      ]
    }
  ]
}