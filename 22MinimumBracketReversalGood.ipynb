{
  "nbformat": 4,
  "nbformat_minor": 0,
  "metadata": {
    "colab": {
      "provenance": []
    },
    "kernelspec": {
      "name": "python3",
      "display_name": "Python 3"
    },
    "language_info": {
      "name": "python"
    }
  },
  "cells": [
    {
      "cell_type": "code",
      "execution_count": null,
      "metadata": {
        "id": "JakJmNvbE-kR"
      },
      "outputs": [],
      "source": [
        "'''\n",
        "Problem statement\n",
        "\n",
        "For a given expression in the form of a string, find the minimum number of brackets that can be reversed in order to make the expression balanced. The expression will only contain curly brackets.\n",
        "\n",
        "If the expression can't be balanced, return -1.\n",
        "\n",
        "For }{  answer is 2 {}\n",
        "\n",
        "'''\n",
        "\n",
        "\n",
        "def countBracketReversals(inputString) :\n",
        "    # Your code goes here\n",
        "    stack =[]\n",
        "    for char in inputString:    # populate the stack\n",
        "        if char == '{':\n",
        "            stack.append(char)\n",
        "        else:\n",
        "            if len(stack) == 0:\n",
        "                stack.append(char)\n",
        "            elif stack[-1] == '{':\n",
        "                stack.pop(-1)\n",
        "            else:\n",
        "                stack.append(char)\n",
        "    count = 0\n",
        "    if len(stack) % 2:      # if length of stack is odd, we can't find two pairs for reversal\n",
        "        return -1\n",
        "    while stack:\n",
        "        c1 = stack.pop()\n",
        "        c2 = stack.pop()\n",
        "        if c1 == c2:        # the following if condition is not important for this question\n",
        "            if c2 == '{':     # but it can be utilised in other question\n",
        "                c2 = '}'\n",
        "            if c1 == '}':\n",
        "                c1 = '{'\n",
        "            count += 1\n",
        "        else:\n",
        "            count += 2\n",
        "\n",
        "    return count\n"
      ]
    }
  ]
}