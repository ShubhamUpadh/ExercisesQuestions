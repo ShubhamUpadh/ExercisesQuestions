{
 "cells": [
  {
   "cell_type": "code",
   "execution_count": null,
   "id": "f7600ad2",
   "metadata": {},
   "outputs": [],
   "source": [
    "# an array contains equal number of negative and positive integers\n",
    "# return an array that has alternate pos, neg numbers\n",
    "# 0 is positive\n",
    "# start from positive\n",
    "\n",
    "def alternateNumbers(arr):\n",
    "    n = len(arr)\n",
    "    res = [0]*n\n",
    "    posId, negId = 0, 1\n",
    "    for i in range(n):\n",
    "        if arr[i] < 0:\n",
    "            res[negId] = arr[i]\n",
    "            negId += 2\n",
    "        else:\n",
    "            res[posId] = arr[i]\n",
    "            posId += 2\n",
    "    return res"
   ]
  },
  {
   "cell_type": "code",
   "execution_count": null,
   "id": "c643ac8b",
   "metadata": {},
   "outputs": [],
   "source": [
    "'''\n",
    "Given an unsorted array Arr of N positive and negative numbers. Your task is to create an array of alternate positive and negative numbers without changing the relative order of positive and negative numbers.\n",
    "Note: Array should start with a positive number and 0 (zero) should be considered a positive element.\n",
    "It might be possible that number of negative and positve integers are not equal\n",
    "'''\n",
    "def rearrange(self,arr, n):\n",
    "    # code here\n",
    "    posNos, negNos = [], []\n",
    "    for i in arr:\n",
    "        if i < 0:\n",
    "            negNos.append(i)\n",
    "        else:\n",
    "            posNos.append(i)\n",
    "    p1, p2=0, 0\n",
    "    #print(posNos, negNos)\n",
    "    for i in range(n):\n",
    "        if p1 == len(posNos) or p2 == len(negNos):\n",
    "            break\n",
    "        if i % 2 == 0:\n",
    "            arr[i] = posNos[p1]\n",
    "            p1 += 1\n",
    "        elif i % 2:\n",
    "            arr[i] = negNos[p2]\n",
    "            p2 += 1\n",
    "        #print(arr[:i+1])\n",
    "    if p1 < len(posNos):\n",
    "        #print(\"Here\")\n",
    "        for j in range(i,len(arr)):\n",
    "            arr[j] = posNos[p1]\n",
    "            #print(arr[:j+1])\n",
    "            p1 += 1\n",
    "    else:\n",
    "        for j in range(i,len(arr)):\n",
    "            arr[j] = negNos[p2]\n",
    "            #print(arr[:j+1])\n",
    "            p2 += 1"
   ]
  }
 ],
 "metadata": {
  "kernelspec": {
   "display_name": "Python 3 (ipykernel)",
   "language": "python",
   "name": "python3"
  },
  "language_info": {
   "codemirror_mode": {
    "name": "ipython",
    "version": 3
   },
   "file_extension": ".py",
   "mimetype": "text/x-python",
   "name": "python",
   "nbconvert_exporter": "python",
   "pygments_lexer": "ipython3",
   "version": "3.9.7"
  }
 },
 "nbformat": 4,
 "nbformat_minor": 5
}
