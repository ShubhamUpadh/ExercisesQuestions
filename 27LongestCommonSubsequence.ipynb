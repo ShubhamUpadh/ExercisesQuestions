{
 "cells": [
  {
   "cell_type": "code",
   "execution_count": null,
   "id": "ad306a0d",
   "metadata": {},
   "outputs": [],
   "source": [
    "def helper(str1,str2):\n",
    "    maxLen = 0\n",
    "    for i in range(len(str1)):\n",
    "        for j in range(len(str2)):\n",
    "            if str1[i] == str2[j]:\n",
    "                currLen += \n",
    "\n",
    "def LCS(str1,str2):\n",
    "    maxLen = 0\n",
    "    for i in range(len(str1)):\n",
    "        for j in range(len(str2)):\n",
    "            if str1[i] == str2[j]:\n",
    "                currLen = helper(str)"
   ]
  },
  {
   "cell_type": "code",
   "execution_count": 2,
   "id": "4a269e7d",
   "metadata": {},
   "outputs": [
    {
     "name": "stdout",
     "output_type": "stream",
     "text": [
      "2\n"
     ]
    }
   ],
   "source": [
    "def LCS(str1,str2):\n",
    "    #base case ke liye space\n",
    "    if str1 == \"\" or str2 == \"\":\n",
    "        return 0\n",
    "    #recurrance relation\n",
    "    maxLen = 0\n",
    "    if str1[0] == str2[0]:\n",
    "        maxLen = 1 + LCS(str1[1:],str2[1:])\n",
    "    else:\n",
    "        max1 = LCS(str1[1:],str2)\n",
    "        max2 = LCS(str1,str2[1:])\n",
    "        maxLen = max(max1,max2)\n",
    "    return maxLen\n",
    "print(LCS(\"ac\",\"abc\"))"
   ]
  }
 ],
 "metadata": {
  "kernelspec": {
   "display_name": "Python 3 (ipykernel)",
   "language": "python",
   "name": "python3"
  },
  "language_info": {
   "codemirror_mode": {
    "name": "ipython",
    "version": 3
   },
   "file_extension": ".py",
   "mimetype": "text/x-python",
   "name": "python",
   "nbconvert_exporter": "python",
   "pygments_lexer": "ipython3",
   "version": "3.9.7"
  }
 },
 "nbformat": 4,
 "nbformat_minor": 5
}
