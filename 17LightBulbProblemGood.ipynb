{
 "cells": [
  {
   "cell_type": "code",
   "execution_count": null,
   "id": "bec13943",
   "metadata": {},
   "outputs": [],
   "source": [
    "#https://www.interviewbit.com/problems/minimum-lights-to-activate/  \n",
    "def lightBulb(arr):\n",
    "    strength = B - 1\n",
    "    i = 0\n",
    "    count = 0\n",
    "    while i < len(A):\n",
    "        bulbfoundAt = None\n",
    "        aheadIndex = min(len(A)-1,i + strength)\n",
    "        behindIndex = max(-1,i - strength - 1)\n",
    "        for j in range(aheadIndex,behindIndex,-1):\n",
    "            if A[j] == 1:\n",
    "                foundAhead = True\n",
    "                bulbfoundAt = j\n",
    "                break\n",
    "        if bulbfoundAt is None:\n",
    "            return -1   # no bulbs found in the given range\n",
    "        i = bulbfoundAt + strength + 1\n",
    "        count += 1\n",
    "    return count\n",
    "    \n",
    "  "
   ]
  }
 ],
 "metadata": {
  "kernelspec": {
   "display_name": "Python 3 (ipykernel)",
   "language": "python",
   "name": "python3"
  },
  "language_info": {
   "codemirror_mode": {
    "name": "ipython",
    "version": 3
   },
   "file_extension": ".py",
   "mimetype": "text/x-python",
   "name": "python",
   "nbconvert_exporter": "python",
   "pygments_lexer": "ipython3",
   "version": "3.9.7"
  }
 },
 "nbformat": 4,
 "nbformat_minor": 5
}
