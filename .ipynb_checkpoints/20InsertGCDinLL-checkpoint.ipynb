{
 "cells": [
  {
   "cell_type": "code",
   "execution_count": null,
   "id": "3edbe4c3",
   "metadata": {},
   "outputs": [],
   "source": [
    "class Solution:\n",
    "    def gcdHelper(self,a,b):\n",
    "        if a == 0:\n",
    "            return b\n",
    "        return self.gcdHelper(b%a,a)\n",
    "    def insertGreatestCommonDivisors(self, head: Optional[ListNode]) -> Optional[ListNode]:\n",
    "        if head is None or head.next is None:\n",
    "            return head\n",
    "        dummy = ListNode(0)\n",
    "        dummy.next = head\n",
    "        while head.next is not None:\n",
    "            currVal,nextVal = head.val, head.next.val\n",
    "            gcd = self.gcdHelper(currVal,nextVal)\n",
    "            gcdNode = ListNode(gcd)\n",
    "            gcdNode.next = head.next\n",
    "            head.next = gcdNode\n",
    "            head = gcdNode.next\n",
    "        return dummy.next"
   ]
  }
 ],
 "metadata": {
  "kernelspec": {
   "display_name": "Python 3 (ipykernel)",
   "language": "python",
   "name": "python3"
  },
  "language_info": {
   "codemirror_mode": {
    "name": "ipython",
    "version": 3
   },
   "file_extension": ".py",
   "mimetype": "text/x-python",
   "name": "python",
   "nbconvert_exporter": "python",
   "pygments_lexer": "ipython3",
   "version": "3.9.7"
  }
 },
 "nbformat": 4,
 "nbformat_minor": 5
}
