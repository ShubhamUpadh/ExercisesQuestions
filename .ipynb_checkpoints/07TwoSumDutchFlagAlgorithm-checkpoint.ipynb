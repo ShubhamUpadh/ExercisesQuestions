{
 "cells": [
  {
   "cell_type": "code",
   "execution_count": null,
   "id": "45beed71",
   "metadata": {},
   "outputs": [],
   "source": [
    "def TwoSum(arr,k):\n",
    "    hashMap = {}\n",
    "    for i in range(len(arr)):\n",
    "        if arr[i] in hashMap:\n",
    "            hashMap[arr[i]] += 1\n",
    "        else:\n",
    "            hashMap[arr[i]] = 1\n",
    "    pairs = 0\n",
    "    for i in range(len(arr)):\n",
    "        conjugate = k - arr[i]\n",
    "        if conjugate in hashMap and hashMap[conjugate] > 0 and conjugate != arr[i]:\n",
    "            pairs += 1\n",
    "            hashMap[conjugate] -= 1\n",
    "            hashMap[arr[i]] -= 1\n",
    "        elif conjugate in hashMap and hashMap[conjugate] > 1 and conjugate == arr[i]:\n",
    "            pairs += 1\n",
    "            hashMap[conjugate] -= 2\n",
    "    return pairs"
   ]
  },
  {
   "cell_type": "code",
   "execution_count": null,
   "id": "dde626a6",
   "metadata": {},
   "outputs": [],
   "source": [
    "def dutchnationalflag(arr):\n",
    "    num2, sums = 0, 0\n",
    "    for i in arr:\n",
    "        if i == 2:\n",
    "            num2 += 1\n",
    "        sums += i\n",
    "    num1 = sums - num2*2\n",
    "    num0 = len(arr) - num1 - num2\n",
    "    for i in range(len(arr)):\n",
    "        if i < num0:\n",
    "            arr[i] = 0\n",
    "        elif i < num1:\n",
    "            arr[i] = 1\n",
    "        else:\n",
    "            arr[i] = 2\n",
    "    "
   ]
  }
 ],
 "metadata": {
  "kernelspec": {
   "display_name": "Python 3 (ipykernel)",
   "language": "python",
   "name": "python3"
  },
  "language_info": {
   "codemirror_mode": {
    "name": "ipython",
    "version": 3
   },
   "file_extension": ".py",
   "mimetype": "text/x-python",
   "name": "python",
   "nbconvert_exporter": "python",
   "pygments_lexer": "ipython3",
   "version": "3.9.7"
  }
 },
 "nbformat": 4,
 "nbformat_minor": 5
}
