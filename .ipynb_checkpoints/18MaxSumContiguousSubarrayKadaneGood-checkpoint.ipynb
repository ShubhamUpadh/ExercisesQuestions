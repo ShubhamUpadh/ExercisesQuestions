{
 "cells": [
  {
   "cell_type": "code",
   "execution_count": null,
   "id": "91d22b66",
   "metadata": {},
   "outputs": [],
   "source": [
    "#https://www.interviewbit.com/problems/max-sum-contiguous-subarray/\n",
    "\n",
    "def maxSubArray(self, A):\n",
    "    p1,p2 = 0, 0\n",
    "    currSum, maxSum = 0, float(\"-inf\")\n",
    "    while p2 < len(A):\n",
    "        if currSum >= 0:\n",
    "            currSum += A[p2]\n",
    "            maxSum = max(maxSum,currSum)\n",
    "            p2 += 1\n",
    "        elif currSum < 0:\n",
    "            while p1 < p2:\n",
    "                currSum -= A[p1]\n",
    "                #maxSum = max(maxSum,currSum)\n",
    "                p1 += 1\n",
    "                if currSum >= 0:\n",
    "                    break\n",
    "            if currSum < 0:\n",
    "                p2 = p2 + 1\n",
    "                p1 = p2\n",
    "                currSum = 0\n",
    "    return maxSum"
   ]
  }
 ],
 "metadata": {
  "kernelspec": {
   "display_name": "Python 3 (ipykernel)",
   "language": "python",
   "name": "python3"
  },
  "language_info": {
   "codemirror_mode": {
    "name": "ipython",
    "version": 3
   },
   "file_extension": ".py",
   "mimetype": "text/x-python",
   "name": "python",
   "nbconvert_exporter": "python",
   "pygments_lexer": "ipython3",
   "version": "3.9.7"
  }
 },
 "nbformat": 4,
 "nbformat_minor": 5
}
