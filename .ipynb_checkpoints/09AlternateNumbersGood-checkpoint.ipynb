{
 "cells": [
  {
   "cell_type": "code",
   "execution_count": null,
   "id": "b7e28a00",
   "metadata": {},
   "outputs": [],
   "source": [
    "# an array contains equal number of negative and positive integers\n",
    "# return an array that has alternate pos, neg numbers\n",
    "# 0 is positive\n",
    "# start from positive\n",
    "\n",
    "def alternateNumbers(arr):\n",
    "    n = len(arr)\n",
    "    res = [0]*n\n",
    "    posId, negId = 0, 1\n",
    "    for i in range(n):\n",
    "        if arr[i] < 0:\n",
    "            res[negId] = arr[i]\n",
    "            negId += 2\n",
    "        else:\n",
    "            res[posId] = arr[i]\n",
    "            posId += 2\n",
    "    return res"
   ]
  }
 ],
 "metadata": {
  "kernelspec": {
   "display_name": "Python 3 (ipykernel)",
   "language": "python",
   "name": "python3"
  },
  "language_info": {
   "codemirror_mode": {
    "name": "ipython",
    "version": 3
   },
   "file_extension": ".py",
   "mimetype": "text/x-python",
   "name": "python",
   "nbconvert_exporter": "python",
   "pygments_lexer": "ipython3",
   "version": "3.9.7"
  }
 },
 "nbformat": 4,
 "nbformat_minor": 5
}
