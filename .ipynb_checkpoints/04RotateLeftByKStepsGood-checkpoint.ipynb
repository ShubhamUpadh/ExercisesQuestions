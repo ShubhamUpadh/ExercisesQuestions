{
 "cells": [
  {
   "cell_type": "code",
   "execution_count": null,
   "id": "a261e4cb",
   "metadata": {},
   "outputs": [],
   "source": [
    "def reverse(arr,lower,upper):\n",
    "    while lower < upper:\n",
    "        arr[lower], arr[upper] = arr[upper], arr[lower]\n",
    "        lower += 1\n",
    "        upper += 1\n",
    "def leftKSteps(arr,k):\n",
    "    n = len(arr)\n",
    "    reverse(arr,0,n-1)\n",
    "    reverse(arr,0,n-k-1)\n",
    "    reverse(arr,n-k,n-1)"
   ]
  }
 ],
 "metadata": {
  "kernelspec": {
   "display_name": "Python 3 (ipykernel)",
   "language": "python",
   "name": "python3"
  },
  "language_info": {
   "codemirror_mode": {
    "name": "ipython",
    "version": 3
   },
   "file_extension": ".py",
   "mimetype": "text/x-python",
   "name": "python",
   "nbconvert_exporter": "python",
   "pygments_lexer": "ipython3",
   "version": "3.9.7"
  }
 },
 "nbformat": 4,
 "nbformat_minor": 5
}
