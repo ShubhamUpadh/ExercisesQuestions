{
 "cells": [
  {
   "cell_type": "code",
   "execution_count": null,
   "id": "29be9db4",
   "metadata": {},
   "outputs": [],
   "source": [
    "'''\n",
    "https://leetcode.com/problems/find-minimum-in-rotated-sorted-array/description/\n",
    "Given the sorted rotated array nums of unique elements, return the minimum element of this array.\n",
    "You must write an algorithm that runs in O(log n) time.\n",
    "'''\n",
    "\n",
    "def findMin(self, a: List[int]) -> int:\n",
    "    if len(a) < 2:\n",
    "        return a[0]\n",
    "    if a[0] < a[-1]:    # 0 rotation\n",
    "        return a[0]\n",
    "    if a[-1] < a[-2]:\n",
    "        return a[-1]\n",
    "    low, high = 0, len(a) - 1\n",
    "    while low <= high:\n",
    "        mid = (low + high)// 2\n",
    "        #print(low,high,mid)\n",
    "        if a[mid] < a[mid-1] and a[mid] < a[mid+1]:\n",
    "            return a[mid]\n",
    "        elif a[mid] >= a[0]:\n",
    "            low = mid + 1\n",
    "        elif a[mid] <= a[-1]:\n",
    "            high = mid - 1\n",
    "\n",
    "            \n",
    "# for non unique elements -> arr = [6,7,7,7,7,11,11,11,11,11,12,13,13,13,13,2,2,3,4,4,5]\n",
    "\n",
    "def findMin(a: list[int]) -> int:\n",
    "    if len(a) < 2:\n",
    "        return a[0]\n",
    "    if a[0] < a[-1]:    # 0 rotation\n",
    "        return a[0]\n",
    "    if a[-1] < a[-2]:\n",
    "        return a[-1]\n",
    "    low, high = 0, len(a) - 1\n",
    "    while low <= high:\n",
    "        mid = (low + high)// 2\n",
    "        #print(low,high,mid)\n",
    "        if (a[mid] <= a[mid-1] and a[mid] < a[mid+1]) or (a[mid] < a[mid-1] and a[mid] <= a[mid+1]):\n",
    "            return a[mid]\n",
    "        elif a[mid] >= a[0]:\n",
    "            low = mid + 1\n",
    "        elif a[mid] <= a[-1]:\n",
    "            high = mid - 1\n"
   ]
  }
 ],
 "metadata": {
  "kernelspec": {
   "display_name": "Python 3 (ipykernel)",
   "language": "python",
   "name": "python3"
  },
  "language_info": {
   "codemirror_mode": {
    "name": "ipython",
    "version": 3
   },
   "file_extension": ".py",
   "mimetype": "text/x-python",
   "name": "python",
   "nbconvert_exporter": "python",
   "pygments_lexer": "ipython3",
   "version": "3.9.7"
  }
 },
 "nbformat": 4,
 "nbformat_minor": 5
}
