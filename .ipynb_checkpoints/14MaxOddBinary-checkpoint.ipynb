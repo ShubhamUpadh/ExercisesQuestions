{
 "cells": [
  {
   "cell_type": "code",
   "execution_count": null,
   "id": "f2942f94",
   "metadata": {},
   "outputs": [],
   "source": [
    "\n",
    "def maximumOddBinaryNumber(self, s: str) -> str:\n",
    "    if len(s) == 1:\n",
    "        return s\n",
    "    no1s = 0\n",
    "    for _ in s:\n",
    "        no1s += int(_)\n",
    "    no0s = len(s) - no1s\n",
    "    return (no1s-1)*\"1\" + no0s*\"0\" + \"1\""
   ]
  }
 ],
 "metadata": {
  "kernelspec": {
   "display_name": "Python 3 (ipykernel)",
   "language": "python",
   "name": "python3"
  },
  "language_info": {
   "codemirror_mode": {
    "name": "ipython",
    "version": 3
   },
   "file_extension": ".py",
   "mimetype": "text/x-python",
   "name": "python",
   "nbconvert_exporter": "python",
   "pygments_lexer": "ipython3",
   "version": "3.9.7"
  }
 },
 "nbformat": 4,
 "nbformat_minor": 5
}
