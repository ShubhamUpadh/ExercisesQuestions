{
 "cells": [
  {
   "cell_type": "code",
   "execution_count": null,
   "id": "585b5f94",
   "metadata": {},
   "outputs": [],
   "source": [
    "def unionOfSortedArrays(arr1,arr2):\n",
    "    if len(arr1) == 0:\n",
    "        return arr2\n",
    "    elif len(arr2) == 0:\n",
    "        return arr1\n",
    "    p1, p2 = 0, 0\n",
    "    unionArray =[]\n",
    "    while p1 < len(arr1) and p2 < len(arr2):\n",
    "        if arr1[p1] < arr2[p2]:\n",
    "            unionArray.append(arr1[p1])\n",
    "            p1 += 1\n",
    "        elif arr1[p1] > arr2[p2]:\n",
    "            unionArray.append(arr2[p2])\n",
    "            p2 += 1\n",
    "        else:\n",
    "            unionArray.append(arr1[p1])\n",
    "            p1 += 1\n",
    "            p2 += 1\n",
    "    if p1 == len(arr1):\n",
    "        for i in range(p2,len(arr2)):\n",
    "            unionArray.append(arr2[i])\n",
    "    else:\n",
    "        for i in range(p1,len(arr1)):\n",
    "            unionArray.append(arr1[i])\n",
    "    return unionArray"
   ]
  }
 ],
 "metadata": {
  "kernelspec": {
   "display_name": "Python 3 (ipykernel)",
   "language": "python",
   "name": "python3"
  },
  "language_info": {
   "codemirror_mode": {
    "name": "ipython",
    "version": 3
   },
   "file_extension": ".py",
   "mimetype": "text/x-python",
   "name": "python",
   "nbconvert_exporter": "python",
   "pygments_lexer": "ipython3",
   "version": "3.9.7"
  }
 },
 "nbformat": 4,
 "nbformat_minor": 5
}
