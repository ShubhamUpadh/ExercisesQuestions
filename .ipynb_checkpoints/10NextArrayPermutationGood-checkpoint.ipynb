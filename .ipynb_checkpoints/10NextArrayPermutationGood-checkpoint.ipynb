{
 "cells": [
  {
   "cell_type": "code",
   "execution_count": null,
   "id": "43ef735d",
   "metadata": {},
   "outputs": [],
   "source": [
    "# https://leetcode.com/problems/next-permutation/description/\n",
    "def nextPermutation(self, nums: List[int]) -> None:\n",
    "    \"\"\"\n",
    "    Do not return anything, modify nums in-place instead.\n",
    "    \"\"\"\n",
    "    flag = False\n",
    "    for i in range(len(nums)-1,0,-1):\n",
    "        if nums[i] > nums[i-1]:\n",
    "            flag = True\n",
    "            break\n",
    "    if not flag:    # the array is in descending order\n",
    "        lower, upper = 0, len(nums) - 1\n",
    "        while lower < upper:\n",
    "            nums[lower], nums[upper] = nums[upper], nums[lower]\n",
    "            lower += 1\n",
    "            upper -= 1\n",
    "        return\n",
    "\n",
    "    pivot = i - 1       #found the pivot element\n",
    "    jMaxId, minDiff = -1, float(\"inf\")\n",
    "    for i in range(pivot+1,len(nums)):  #find the just greater element than pivot\n",
    "        if nums[i] > nums[pivot] and minDiff > nums[i] - nums[pivot]:\n",
    "            jMaxId = i \n",
    "    nums[pivot], nums[jMaxId] = nums[jMaxId], nums[pivot]\n",
    "    #reverse the array after pivot\n",
    "    lower, upper = pivot + 1, len(nums) - 1\n",
    "    while lower < upper:\n",
    "        nums[lower], nums[upper] = nums[upper], nums[lower]\n",
    "        lower += 1\n",
    "        upper -= 1\n"
   ]
  }
 ],
 "metadata": {
  "kernelspec": {
   "display_name": "Python 3 (ipykernel)",
   "language": "python",
   "name": "python3"
  },
  "language_info": {
   "codemirror_mode": {
    "name": "ipython",
    "version": 3
   },
   "file_extension": ".py",
   "mimetype": "text/x-python",
   "name": "python",
   "nbconvert_exporter": "python",
   "pygments_lexer": "ipython3",
   "version": "3.9.7"
  }
 },
 "nbformat": 4,
 "nbformat_minor": 5
}
