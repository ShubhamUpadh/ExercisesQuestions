{
  "nbformat": 4,
  "nbformat_minor": 0,
  "metadata": {
    "colab": {
      "provenance": []
    },
    "kernelspec": {
      "name": "python3",
      "display_name": "Python 3"
    },
    "language_info": {
      "name": "python"
    }
  },
  "cells": [
    {
      "cell_type": "code",
      "execution_count": null,
      "metadata": {
        "id": "TCq1t3T454KO"
      },
      "outputs": [],
      "source": [
        "#https://leetcode.com/problems/online-election/\n",
        "\n",
        "class TopVotedCandidate:\n",
        "\n",
        "    def __init__(self, persons: List[int], times: List[int]):\n",
        "        self.persons = persons\n",
        "        self.times = times\n",
        "        self.winnerDict = self.updateWinnerDict()\n",
        "\n",
        "    def updateWinnerDict(self):\n",
        "        freqArr, maxID, maxVotes = [0]*len(self.persons), -1, -1\n",
        "        newDict= {}\n",
        "\n",
        "        for i in range(len(self.times)):\n",
        "            freqArr[self.persons[i]] += 1\n",
        "            if freqArr[self.persons[i]] >= maxVotes:\n",
        "                maxID = self.persons[i]\n",
        "                maxVotes = freqArr[self.persons[i]]\n",
        "            newDict[self.times[i]] = maxID\n",
        "        return newDict\n",
        "\n",
        "    def getCurrentTime(self,t) -> int:   # return the time t if not in winnerDict\n",
        "        if self.times[0] <= t < self.times[1]:\n",
        "            return self.times[0]\n",
        "        if self.times[-2] <= t < self.times[-1]:\n",
        "            return self.times[-2]\n",
        "        # implement binary search\n",
        "        low, high = 0, len(self.times) - 1\n",
        "        while low <= high:\n",
        "            mid = (low+high)//2\n",
        "            if self.times[mid] == t:\n",
        "                return self.times[mid]\n",
        "            elif self.times[mid] > t:\n",
        "                high = mid - 1\n",
        "            else:\n",
        "                low = mid + 1\n",
        "        return self.times[min(low,high)]\n",
        "\n",
        "\n",
        "\n",
        "\n",
        "    def q(self, t: int) -> int:\n",
        "        #self.updateWinnerDict()\n",
        "        if t in self.winnerDict:\n",
        "            return self.winnerDict[t]\n",
        "        else:\n",
        "            currT = self.getCurrentTime(t)\n",
        "            return self.winnerDict[currT]"
      ]
    }
  ]
}