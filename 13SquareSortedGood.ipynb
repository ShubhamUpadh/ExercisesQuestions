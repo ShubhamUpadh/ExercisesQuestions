{
 "cells": [
  {
   "cell_type": "code",
   "execution_count": 3,
   "id": "097ab393",
   "metadata": {},
   "outputs": [],
   "source": [
    "def squareSorted(arr):\n",
    "    return sorted([x*x for x in arr])"
   ]
  },
  {
   "cell_type": "code",
   "execution_count": 4,
   "id": "2eb927d9",
   "metadata": {},
   "outputs": [
    {
     "name": "stdout",
     "output_type": "stream",
     "text": [
      "[0, 1, 1, 4]\n"
     ]
    }
   ],
   "source": [
    "print(squareSorted([-1,-2,0,1]))"
   ]
  },
  {
   "cell_type": "code",
   "execution_count": null,
   "id": "fc7e4f82",
   "metadata": {},
   "outputs": [],
   "source": [
    "def sortedSquares(nums: List[int]) -> List[int]:\n",
    "    i = 0\n",
    "    while i < len(nums):\n",
    "        if nums[i] >= 0:\n",
    "            break\n",
    "        i += 1\n",
    "    posP, negP = i, i - 1\n",
    "    if posP == 0:\n",
    "        res = [x*x for x in nums]\n",
    "        return res\n",
    "    elif posP == len(nums):\n",
    "        res = [x*x for x in nums]\n",
    "        return res[::-1]\n",
    "    res = [None]* len(nums)\n",
    "    i = 0\n",
    "    while negP > -1 and posP < len(nums) and i < len(nums):\n",
    "        negVal, posVal = nums[negP]**2, nums[posP]**2\n",
    "        if negVal > posVal:\n",
    "            res[i] = posVal\n",
    "            posP += 1\n",
    "        else:\n",
    "            res[i] = negVal\n",
    "            negP -= 1\n",
    "        i += 1\n",
    "    if negP == -1:\n",
    "        while i < len(nums):\n",
    "            res[i] = nums[posP]**2\n",
    "            i += 1\n",
    "            posP += 1\n",
    "    elif posP == len(nums):\n",
    "        while i < len(nums):\n",
    "            res[i] = nums[negP]**2\n",
    "            i += 1\n",
    "            negP -= 1\n",
    "    return res\n",
    "\n"
   ]
  }
 ],
 "metadata": {
  "kernelspec": {
   "display_name": "Python 3 (ipykernel)",
   "language": "python",
   "name": "python3"
  },
  "language_info": {
   "codemirror_mode": {
    "name": "ipython",
    "version": 3
   },
   "file_extension": ".py",
   "mimetype": "text/x-python",
   "name": "python",
   "nbconvert_exporter": "python",
   "pygments_lexer": "ipython3",
   "version": "3.9.7"
  }
 },
 "nbformat": 4,
 "nbformat_minor": 5
}
