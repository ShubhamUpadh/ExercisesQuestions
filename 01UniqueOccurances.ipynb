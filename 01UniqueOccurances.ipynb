{
 "cells": [
  {
   "cell_type": "code",
   "execution_count": null,
   "id": "9637fe00",
   "metadata": {},
   "outputs": [],
   "source": [
    "def uniqueOccurrences(self, arr: List[int]) -> bool:\n",
    "        freqDict = {}\n",
    "        for value in arr:\n",
    "            if value in freqDict:\n",
    "                freqDict[value] += 1\n",
    "            else:\n",
    "                freqDict[value] = 0\n",
    "        freqOccurance = {}\n",
    "        for key in freqDict:\n",
    "            if freqDict[key] in freqOccurance:\n",
    "                return False\n",
    "            else:\n",
    "                freqOccurance[freqDict[key]] = 1\n",
    "        return True\n",
    "        "
   ]
  }
 ],
 "metadata": {
  "kernelspec": {
   "display_name": "Python 3 (ipykernel)",
   "language": "python",
   "name": "python3"
  },
  "language_info": {
   "codemirror_mode": {
    "name": "ipython",
    "version": 3
   },
   "file_extension": ".py",
   "mimetype": "text/x-python",
   "name": "python",
   "nbconvert_exporter": "python",
   "pygments_lexer": "ipython3",
   "version": "3.9.7"
  }
 },
 "nbformat": 4,
 "nbformat_minor": 5
}
