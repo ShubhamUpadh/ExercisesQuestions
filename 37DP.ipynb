{
 "cells": [
  {
   "cell_type": "code",
   "execution_count": 2,
   "id": "10d8961f",
   "metadata": {},
   "outputs": [
    {
     "name": "stdout",
     "output_type": "stream",
     "text": [
      "dcbafgh\n"
     ]
    }
   ],
   "source": [
    "word = \"abcdfgh\"\n",
    "ch = \"d\"\n",
    "def reversePrefix(word: str, ch: str) -> str:\n",
    "    retStr = \"\"\n",
    "    found = False\n",
    "    for i in range(len(word)):\n",
    "        if not found and word[i] == ch:\n",
    "            found = True\n",
    "            j = i\n",
    "            while j >= 0:\n",
    "                retStr += word[j]\n",
    "                j -= 1\n",
    "        elif found:\n",
    "            retStr += word[i]\n",
    "    return retStr if found else word\n",
    "print(reversePrefix(word,ch))"
   ]
  }
 ],
 "metadata": {
  "kernelspec": {
   "display_name": "Python 3 (ipykernel)",
   "language": "python",
   "name": "python3"
  },
  "language_info": {
   "codemirror_mode": {
    "name": "ipython",
    "version": 3
   },
   "file_extension": ".py",
   "mimetype": "text/x-python",
   "name": "python",
   "nbconvert_exporter": "python",
   "pygments_lexer": "ipython3",
   "version": "3.9.7"
  }
 },
 "nbformat": 4,
 "nbformat_minor": 5
}
