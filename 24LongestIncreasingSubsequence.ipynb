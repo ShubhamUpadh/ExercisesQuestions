{
 "cells": [
  {
   "cell_type": "code",
   "execution_count": 4,
   "id": "afcca6f0",
   "metadata": {},
   "outputs": [
    {
     "name": "stdout",
     "output_type": "stream",
     "text": [
      "3\n"
     ]
    }
   ],
   "source": [
    "def LIS(a):\n",
    "    maxLen = 1\n",
    "    for i in range(len(a)-1):\n",
    "        currMax, currLen = a[i], 1\n",
    "        for j in range(i+1,len(a)):\n",
    "            if currMax < a[j]:\n",
    "                currMax = a[j]\n",
    "                currLen += 1\n",
    "        maxLen = max(maxLen,currLen)\n",
    "    return maxLen\n",
    "\n",
    "print(LIS(list(int(x) for x in \"5 4 11 1 16 8\".split(\" \"))))"
   ]
  }
 ],
 "metadata": {
  "kernelspec": {
   "display_name": "Python 3 (ipykernel)",
   "language": "python",
   "name": "python3"
  },
  "language_info": {
   "codemirror_mode": {
    "name": "ipython",
    "version": 3
   },
   "file_extension": ".py",
   "mimetype": "text/x-python",
   "name": "python",
   "nbconvert_exporter": "python",
   "pygments_lexer": "ipython3",
   "version": "3.9.7"
  }
 },
 "nbformat": 4,
 "nbformat_minor": 5
}
