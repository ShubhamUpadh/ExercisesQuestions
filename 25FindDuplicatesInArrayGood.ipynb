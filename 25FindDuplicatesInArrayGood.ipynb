{
 "cells": [
  {
   "cell_type": "code",
   "execution_count": null,
   "id": "d83059f4",
   "metadata": {},
   "outputs": [],
   "source": [
    "'''\n",
    "https://leetcode.com/problems/find-all-duplicates-in-an-array/description/\n",
    "Given an integer array nums of length n where all the integers of nums are in the range [1, n] and each integer appears once or twice, return an array of all the integers that appears twice.\n",
    "\n",
    "You must write an algorithm that runs in O(n) time and uses only constant extra space.\n",
    "'''\n",
    "\n",
    "def findDuplicates(self, arr: List[int]) -> List[int]:    # another approach can be multiplying the visited element by -1\n",
    "    duplicateArr = []\n",
    "    for i in range(len(arr)):\n",
    "        targetElement = int(arr[i]) - 1\n",
    "        if type(arr[targetElement]) is str:\n",
    "            duplicateArr.append(targetElement + 1)\n",
    "        else:\n",
    "            arr[targetElement] = str(arr[targetElement])\n",
    "\n",
    "    return duplicateArr\n"
   ]
  }
 ],
 "metadata": {
  "kernelspec": {
   "display_name": "Python 3 (ipykernel)",
   "language": "python",
   "name": "python3"
  },
  "language_info": {
   "codemirror_mode": {
    "name": "ipython",
    "version": 3
   },
   "file_extension": ".py",
   "mimetype": "text/x-python",
   "name": "python",
   "nbconvert_exporter": "python",
   "pygments_lexer": "ipython3",
   "version": "3.9.7"
  }
 },
 "nbformat": 4,
 "nbformat_minor": 5
}
