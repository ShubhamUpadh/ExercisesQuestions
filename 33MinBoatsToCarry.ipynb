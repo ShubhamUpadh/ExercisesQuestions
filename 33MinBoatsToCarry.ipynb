{
 "cells": [
  {
   "cell_type": "code",
   "execution_count": 14,
   "id": "1de85caa",
   "metadata": {},
   "outputs": [],
   "source": [
    "def minBoats(arr,k):\n",
    "    boats = 0\n",
    "    counterArr = [-1]*len(arr)\n",
    "    arr.sort()\n",
    "    i = 0\n",
    "    while i < len(arr):\n",
    "        if counterArr[i] == 1:\n",
    "            #print(f\"Here @ {i}\")\n",
    "            i += 1\n",
    "            continue\n",
    "        if arr[i] == k:\n",
    "            boats += 1\n",
    "            counterArr[i] = 1\n",
    "            #print(f\"Boat number {boats} with passenger {arr[i]}\")\n",
    "        else:\n",
    "            j = len(arr) - 1\n",
    "            while j > i:\n",
    "                if arr[i] + arr[j] <= k and counterArr[j] != 1:\n",
    "                    counterArr[i], counterArr[j] = 1, 1\n",
    "                    boats += 1\n",
    "                    #print(f\"Boat number {boats} with passenger {arr[i], arr[j]}\")\n",
    "\n",
    "                    break\n",
    "                j -= 1\n",
    "            else:\n",
    "                #print(f\"No such paired boat found \")\n",
    "                boats += 1\n",
    "        #print(i,counterArr)\n",
    "        i += 1\n",
    "    return boats\n",
    "        "
   ]
  },
  {
   "cell_type": "code",
   "execution_count": 17,
   "id": "4575a9a5",
   "metadata": {},
   "outputs": [
    {
     "name": "stdout",
     "output_type": "stream",
     "text": [
      "4\n"
     ]
    }
   ],
   "source": [
    "print(minBoats([3,5,3,4],5))"
   ]
  }
 ],
 "metadata": {
  "kernelspec": {
   "display_name": "Python 3 (ipykernel)",
   "language": "python",
   "name": "python3"
  },
  "language_info": {
   "codemirror_mode": {
    "name": "ipython",
    "version": 3
   },
   "file_extension": ".py",
   "mimetype": "text/x-python",
   "name": "python",
   "nbconvert_exporter": "python",
   "pygments_lexer": "ipython3",
   "version": "3.9.7"
  }
 },
 "nbformat": 4,
 "nbformat_minor": 5
}
