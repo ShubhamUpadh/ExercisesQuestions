{
 "cells": [
  {
   "cell_type": "code",
   "execution_count": null,
   "id": "b2f69126",
   "metadata": {},
   "outputs": [],
   "source": [
    "def SequentialDigitsGood(low,high):\n",
    "    string = \"123456789\"\n",
    "    lowC, highC = low, high\n",
    "    lowDig, highDig = 0, 0\n",
    "    while lowC > 0: # calculate the number of dogits in low\n",
    "        lowC = lowC // 10\n",
    "        lowDig += 1\n",
    "    while highC > 0: # calculate the number of digits in high\n",
    "        highC = highC // 10\n",
    "        highDig += 1\n",
    "    print(highDig, lowDig)\n",
    "    digits = [x for x in range(lowDig,highDig+1,1)] # calculate the number of digits in range\n",
    "    print(digits)\n",
    "    res = []\n",
    "    p1, p2 = 0, 0\n",
    "    for i in digits:\n",
    "        p1, p2  = 0, p1 + i  # Yahan par p2 = p1 +i pehle evaluate hota hai\n",
    "        print(p1,i,p2)\n",
    "        while p2 <= len(string):\n",
    "            resStr = string[p1:p2]\n",
    "            print(resStr, p1, p2)\n",
    "            if low <= int(resStr) and int(resStr) <= high:\n",
    "                res.append(int(resStr))\n",
    "            elif high < int(resStr):\n",
    "                break\n",
    "            p1 += 1\n",
    "            p2 += 1\n",
    "        p1, p2 = 0, 0 # iski jarurat isley hai warna p2 = p1 + i me p1 ki purani value reh jaaegi\n",
    "    return res\n",
    "\n"
   ]
  }
 ],
 "metadata": {
  "kernelspec": {
   "display_name": "Python 3 (ipykernel)",
   "language": "python",
   "name": "python3"
  },
  "language_info": {
   "codemirror_mode": {
    "name": "ipython",
    "version": 3
   },
   "file_extension": ".py",
   "mimetype": "text/x-python",
   "name": "python",
   "nbconvert_exporter": "python",
   "pygments_lexer": "ipython3",
   "version": "3.9.7"
  }
 },
 "nbformat": 4,
 "nbformat_minor": 5
}
