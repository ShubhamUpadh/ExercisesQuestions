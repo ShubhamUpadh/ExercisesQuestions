{
 "cells": [
  {
   "cell_type": "code",
   "execution_count": null,
   "id": "6482fa21",
   "metadata": {},
   "outputs": [],
   "source": [
    "# https://leetcode.com/problems/cousins-in-binary-tree/description/\n",
    "\n",
    "class Solution:\n",
    "    def isCousins(self, root: Optional[TreeNode], x: int, y: int) -> bool:\n",
    "        q = []\n",
    "        q.append(root)\n",
    "        while len(q):\n",
    "            foundOne, foundOther = False, False\n",
    "            for i in range(len(q)):\n",
    "                node = q.pop(0)\n",
    "                if node.left and node.left.val in (x,y) and node.right and node.right.val in (x,y):\n",
    "                    return False\n",
    "                if node.left:\n",
    "                    q.append(node.left)\n",
    "                    if node.left.val in (x,y):\n",
    "                        if foundOne is True:\n",
    "                            foundOther = True\n",
    "                        else:\n",
    "                            foundOne = True\n",
    "                if node.right:\n",
    "                    q.append(node.right)\n",
    "                    if node.right.val in (x,y):\n",
    "                        if foundOne is True:\n",
    "                            foundOther = True\n",
    "                        else:\n",
    "                            foundOne = True\n",
    "            if foundOne and foundOther:\n",
    "                return True\n",
    "        return False\n",
    "        "
   ]
  }
 ],
 "metadata": {
  "kernelspec": {
   "display_name": "Python 3 (ipykernel)",
   "language": "python",
   "name": "python3"
  },
  "language_info": {
   "codemirror_mode": {
    "name": "ipython",
    "version": 3
   },
   "file_extension": ".py",
   "mimetype": "text/x-python",
   "name": "python",
   "nbconvert_exporter": "python",
   "pygments_lexer": "ipython3",
   "version": "3.9.7"
  }
 },
 "nbformat": 4,
 "nbformat_minor": 5
}
