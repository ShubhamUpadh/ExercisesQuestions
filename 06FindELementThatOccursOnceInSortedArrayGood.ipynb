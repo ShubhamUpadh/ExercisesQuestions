{
 "cells": [
  {
   "cell_type": "code",
   "execution_count": 5,
   "id": "fb39b194",
   "metadata": {},
   "outputs": [],
   "source": [
    "def numberOccursOnce(arr):\n",
    "    for i in range(len(arr)):\n",
    "        if i % 2 == 0:\n",
    "            if arr[i] != arr[i+1]:\n",
    "                return arr[i]\n",
    "def numberOccursOnce(arr):\n",
    "    lower, upper = 0, len(arr) - 1\n",
    "    while lower <= upper:\n",
    "        mid = (lower+upper)//2\n",
    "        if (mid % 2 == 0 and mid < len(arr)-1 and arr[mid] == arr[mid+1]) or (mid % 2 != 0 and mid > 0 and arr[mid] == arr[mid-1]):\n",
    "            lower = mid + 1\n",
    "        elif (mid % 2 == 0 and mid > 0 and arr[mid] == arr[mid-1]) or (mid % 2 != 0 and mid < len(arr) - 1 and arr[mid] == arr[mid+1]):\n",
    "            upper  = mid - 1\n",
    "        else:\n",
    "            return arr[mid]"
   ]
  }
 ],
 "metadata": {
  "kernelspec": {
   "display_name": "Python 3 (ipykernel)",
   "language": "python",
   "name": "python3"
  },
  "language_info": {
   "codemirror_mode": {
    "name": "ipython",
    "version": 3
   },
   "file_extension": ".py",
   "mimetype": "text/x-python",
   "name": "python",
   "nbconvert_exporter": "python",
   "pygments_lexer": "ipython3",
   "version": "3.9.7"
  }
 },
 "nbformat": 4,
 "nbformat_minor": 5
}
