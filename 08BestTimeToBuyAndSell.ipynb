{
 "cells": [
  {
   "cell_type": "code",
   "execution_count": null,
   "id": "616d4536",
   "metadata": {},
   "outputs": [],
   "source": [
    "def bestTimeToBuySell(arr):   # O(n) Space and Time\n",
    "    if len(arr) < 2:\n",
    "        return [-1,-1]\n",
    "    rightGreater = []\n",
    "    maxEl = arr[-1]\n",
    "    for i in range(len(arr)-2,-1,-1):\n",
    "        maxEl = max(maxEl,arr[i])\n",
    "        rightGreater[i] = maxEl\n",
    "    maxEl = float(\"-inf\")\n",
    "    for i in range(len(arr)-1):\n",
    "         if maxEl < rightGreater[i] - arr[i]:\n",
    "            maxEl = rightGreater[i] - arr[i]\n",
    "\n",
    "    return maxEl\n",
    "\n",
    "def bestTimeToBuySell(arr):\n",
    "    minEl = float(\"inf\")\n",
    "    maxDiff = float(\"-inf\")\n",
    "    for i in arr:\n",
    "        minEl = min(i,minEl)\n",
    "        maxDiff = max(maxDiff,i - minEl)\n",
    "    return maxDiff"
   ]
  }
 ],
 "metadata": {
  "kernelspec": {
   "display_name": "Python 3 (ipykernel)",
   "language": "python",
   "name": "python3"
  },
  "language_info": {
   "codemirror_mode": {
    "name": "ipython",
    "version": 3
   },
   "file_extension": ".py",
   "mimetype": "text/x-python",
   "name": "python",
   "nbconvert_exporter": "python",
   "pygments_lexer": "ipython3",
   "version": "3.9.7"
  }
 },
 "nbformat": 4,
 "nbformat_minor": 5
}
