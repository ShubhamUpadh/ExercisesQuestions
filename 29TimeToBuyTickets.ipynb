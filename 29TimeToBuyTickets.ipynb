{
  "nbformat": 4,
  "nbformat_minor": 0,
  "metadata": {
    "colab": {
      "provenance": []
    },
    "kernelspec": {
      "name": "python3",
      "display_name": "Python 3"
    },
    "language_info": {
      "name": "python"
    }
  },
  "cells": [
    {
      "cell_type": "code",
      "execution_count": null,
      "metadata": {
        "id": "TCq1t3T454KO"
      },
      "outputs": [],
      "source": [
        "class Solution:\n",
        "    def timeRequiredToBuy(self, tickets: List[int], k: int) -> int:\n",
        "        time = 0\n",
        "        while tickets[k] != 0:\n",
        "            for i in range(len(tickets)):\n",
        "                if tickets[i] != 0:\n",
        "                    tickets[i] -= 1\n",
        "                    time += 1\n",
        "                    if i == k and tickets[i] == 0:\n",
        "                        return time\n",
        "\n",
        "        return time\n",
        "\n",
        ""
      ]
    }
  ]
}