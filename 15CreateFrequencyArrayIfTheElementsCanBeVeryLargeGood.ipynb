{
 "cells": [
  {
   "cell_type": "code",
   "execution_count": null,
   "id": "073d8ecc",
   "metadata": {},
   "outputs": [],
   "source": [
    "\n",
    "def findOccurences(self, A):\n",
    "# Dictionary to store the occurrences of each number\n",
    "    count_dict = {}\n",
    "\n",
    "    # Count occurrences of each number\n",
    "    for num in A:\n",
    "        count_dict[num] = count_dict.get(num, 0) + 1\n",
    "\n",
    "    # Create a list of tuples (number, occurrence count)\n",
    "    occurrences = [(num, count_dict[num]) for num in count_dict]\n",
    "\n",
    "    # Sort the list based on the occurrence count\n",
    "    occurrences.sort(key=lambda x: (x[0], x[1]))\n",
    "\n",
    "    # Extract only the occurrence counts and return\n",
    "    return [occ[1] for occ in occurrences]"
   ]
  }
 ],
 "metadata": {
  "kernelspec": {
   "display_name": "Python 3 (ipykernel)",
   "language": "python",
   "name": "python3"
  },
  "language_info": {
   "codemirror_mode": {
    "name": "ipython",
    "version": 3
   },
   "file_extension": ".py",
   "mimetype": "text/x-python",
   "name": "python",
   "nbconvert_exporter": "python",
   "pygments_lexer": "ipython3",
   "version": "3.9.7"
  }
 },
 "nbformat": 4,
 "nbformat_minor": 5
}
