{
 "cells": [
  {
   "cell_type": "code",
   "execution_count": null,
   "id": "b888608f",
   "metadata": {},
   "outputs": [],
   "source": [
    "# https://leetcode.com/problems/double-a-number-represented-as-a-linked-list/submissions/1251908659/\n",
    "# Definition for singly-linked list.\n",
    "# class ListNode:\n",
    "#     def __init__(self, val=0, next=None):\n",
    "#         self.val = val\n",
    "#         self.next = next\n",
    "class Solution:\n",
    "    def  dbHelper(self,head):\n",
    "        if head.next is None:\n",
    "            tempVal = 2 * head.val\n",
    "            head.val = tempVal % 10\n",
    "            retVal = tempVal // 10\n",
    "            return retVal\n",
    "        \n",
    "        carryVal = self.dbHelper(head.next)\n",
    "        tempVal = (2 * head.val) + carryVal\n",
    "        head.val = tempVal % 10\n",
    "        retVal = tempVal // 10\n",
    "        return retVal\n",
    "\n",
    "    def doubleIt(self, head: Optional[ListNode]) -> Optional[ListNode]:\n",
    "        if head is None:\n",
    "            return head\n",
    "        \n",
    "        extraVal = self.dbHelper(head)\n",
    "        if extraVal == 0:\n",
    "            return head\n",
    "        else:\n",
    "            newHead = ListNode(val = extraVal, next = head)\n",
    "            return newHead\n",
    "        "
   ]
  }
 ],
 "metadata": {
  "kernelspec": {
   "display_name": "Python 3 (ipykernel)",
   "language": "python",
   "name": "python3"
  },
  "language_info": {
   "codemirror_mode": {
    "name": "ipython",
    "version": 3
   },
   "file_extension": ".py",
   "mimetype": "text/x-python",
   "name": "python",
   "nbconvert_exporter": "python",
   "pygments_lexer": "ipython3",
   "version": "3.9.7"
  }
 },
 "nbformat": 4,
 "nbformat_minor": 5
}
