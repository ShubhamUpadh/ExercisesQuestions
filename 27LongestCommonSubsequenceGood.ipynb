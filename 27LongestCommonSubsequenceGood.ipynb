{
 "cells": [
  {
   "cell_type": "code",
   "execution_count": null,
   "id": "164bd8df",
   "metadata": {},
   "outputs": [],
   "source": [
    "def helper(str1,str2):\n",
    "    maxLen = 0\n",
    "    for i in range(len(str1)):\n",
    "        for j in range(len(str2)):\n",
    "            if str1[i] == str2[j]:\n",
    "                currLen += \n",
    "\n",
    "def LCS(str1,str2):\n",
    "    maxLen = 0\n",
    "    for i in range(len(str1)):\n",
    "        for j in range(len(str2)):\n",
    "            if str1[i] == str2[j]:\n",
    "                currLen = helper(str)"
   ]
  },
  {
   "cell_type": "code",
   "execution_count": 14,
   "id": "bc50234b",
   "metadata": {},
   "outputs": [
    {
     "name": "stdout",
     "output_type": "stream",
     "text": [
      "16\n"
     ]
    }
   ],
   "source": [
    "maxLenStr = \"\"\n",
    "def LCS(str1,str2):\n",
    "    #base case ke liye space\n",
    "    #global maxLenStr\n",
    "    if str1 == \"\" or str2 == \"\":\n",
    "        return 0\n",
    "    #recurrance relation\n",
    "    maxLen = 0\n",
    "    if str1[0] == str2[0]:\n",
    "        maxLen = 1 + LCS(str1[1:],str2[1:])\n",
    "        #maxLenStr = str1[0] + maxLenStr\n",
    "    else:\n",
    "        max1 = LCS(str1[1:],str2)\n",
    "        max2 = LCS(str1,str2[1:])\n",
    "        maxLen = max(max1,max2)\n",
    "    return maxLen\n",
    "print(LCS(\"abracadabraabracadabraab\",\"cadabracadabraabr\"))"
   ]
  },
  {
   "cell_type": "code",
   "execution_count": 22,
   "id": "8b61b1fc",
   "metadata": {},
   "outputs": [
    {
     "name": "stdout",
     "output_type": "stream",
     "text": [
      "16\n"
     ]
    }
   ],
   "source": [
    "def LCS(str1,str2):\n",
    "    def helper2(str1,str2,i,j,dp):\n",
    "        if i == len(str1) or j == len(str2):\n",
    "            return 0\n",
    "        if dp[i][j] != None:\n",
    "            return dp[i][j]\n",
    "        if str1[i] == str2[j]:\n",
    "            dp[i][j] = 1 + helper2(str1,str2, i+1, j+1,dp)\n",
    "        else:\n",
    "            val1 = helper2(str1,str2, i+1, j, dp)\n",
    "            val2 = helper2(str1,str2, i, j+1, dp)\n",
    "            dp[i][j] = max(val1, val2)\n",
    "        return dp[i][j]\n",
    "    dp = [[None for i in range(max(len(str2),len(str1))+1)] for j in range(max(len(str1),len(str2))+1)]\n",
    "    return helper2(str1,str2,0,0,dp)\n",
    "    \n",
    "    helperDict ={}\n",
    "    def helper(str1,str2,i,j):\n",
    "        if i == len(str1) or j == len(str2):\n",
    "            return 0\n",
    "        if (i,j) in helperDict:\n",
    "            return helperDict[(i,j)]\n",
    "        if str1[i] == str2[j]:\n",
    "            val1 = 1 + helper(str1,str2,i+1,j+1)\n",
    "            helperDict[(i,j)] = val1\n",
    "        else:\n",
    "            val2 = helper(str1,str2,i+1,j)\n",
    "            val3 = helper(str1,str2,i,j+1)\n",
    "            helperDict[(i,j)] = max(val2,val3)\n",
    "        return helperDict[(i,j)]\n",
    "    return helper2(str1,str2,0,0)\n",
    "print(LCS(\"abracadabraabracadabraab\",\"cadabracadabraabr\"))"
   ]
  },
  {
   "cell_type": "code",
   "execution_count": 18,
   "id": "14cb10fc",
   "metadata": {},
   "outputs": [
    {
     "name": "stdout",
     "output_type": "stream",
     "text": [
      "[[None, None, None, None], [None, None, None, None], [None, None, None, None], [None, None, None, None]]\n"
     ]
    }
   ],
   "source": [
    "str1 = \"abc\"\n",
    "str2 = \"def\"\n",
    "dp = [[None for i in range(len(str1)+1)] for j in range(len(str2)+1)]\n",
    "print(dp)"
   ]
  },
  {
   "cell_type": "code",
   "execution_count": 31,
   "id": "cdc828a8",
   "metadata": {},
   "outputs": [
    {
     "name": "stdout",
     "output_type": "stream",
     "text": [
      "16 15 14 14 13 12 11 10 9 8 7 6 5 4 3 2 1 0 \n",
      "16 15 14 13 13 12 11 10 9 8 7 6 5 4 3 2 1 0 \n",
      "16 15 14 13 12 12 11 10 9 8 7 6 5 4 3 2 1 0 \n",
      "16 15 14 13 12 11 11 10 9 8 7 6 5 4 3 2 1 0 \n",
      "16 15 14 13 12 11 10 10 9 8 7 6 5 4 3 2 1 0 \n",
      "15 15 14 13 12 11 10 9 9 8 7 6 5 4 3 2 1 0 \n",
      "14 14 14 13 12 11 10 9 8 8 7 6 5 4 3 2 1 0 \n",
      "14 14 13 13 12 11 10 9 8 7 7 6 5 4 3 2 1 0 \n",
      "14 14 13 13 12 11 10 9 8 7 7 6 5 4 3 2 1 0 \n",
      "14 14 13 13 12 11 10 9 8 7 7 6 5 4 3 2 1 0 \n",
      "14 14 13 13 12 11 10 9 8 7 7 6 5 4 3 2 1 0 \n",
      "13 13 13 13 12 11 10 9 8 7 7 6 5 4 3 2 1 0 \n",
      "12 12 12 12 12 11 10 9 8 7 6 6 5 4 3 2 1 0 \n",
      "11 11 11 11 11 11 10 9 8 7 6 5 5 4 3 2 1 0 \n",
      "10 10 10 10 10 10 10 9 8 7 6 5 4 4 3 2 1 0 \n",
      "9 9 9 9 9 9 9 9 8 7 6 5 4 4 3 2 1 0 \n",
      "8 8 8 8 8 8 8 8 8 7 6 5 4 4 3 2 1 0 \n",
      "7 7 7 7 7 7 7 7 7 7 6 5 4 3 3 2 1 0 \n",
      "6 6 6 6 6 6 6 6 6 6 6 5 4 3 3 2 1 0 \n",
      "5 5 5 5 5 5 5 5 5 5 5 5 4 3 2 2 1 0 \n",
      "4 4 4 4 4 4 4 4 4 4 4 4 4 3 2 1 1 0 \n",
      "3 3 3 3 3 3 3 3 3 3 3 3 3 3 2 1 0 0 \n",
      "2 2 2 2 2 2 2 2 2 2 2 2 2 2 2 1 0 0 \n",
      "1 1 1 1 1 1 1 1 1 1 1 1 1 1 1 1 0 0 \n",
      "0 0 0 0 0 0 0 0 0 0 0 0 0 0 0 0 0 0 \n",
      "16\n"
     ]
    }
   ],
   "source": [
    "def LCS(str1,str2):\n",
    "    dp = [[0 for _ in range(len(str2)+1)] for _ in range(len(str1)+1)]\n",
    "    for i in range(len(str1)-1,-1,-1):\n",
    "        for j in range(len(str2)-1,-1,-1):\n",
    "            maxVal = max(dp[i+1][j],dp[i][j+1])\n",
    "            if str1[i] == str2[j]:\n",
    "                dp[i][j] = 1 + dp[i+1][j+1]\n",
    "            else:\n",
    "                dp[i][j] = maxVal\n",
    "    for i in range(len(dp)):\n",
    "        for j in range(len(dp[0])):\n",
    "            print(dp[i][j], end =\" \")\n",
    "        print()\n",
    "    return dp[0][0]\n",
    "print(LCS(\"abracadabraabracadabraab\",\"cadabracadabraabr\"))"
   ]
  }
 ],
 "metadata": {
  "kernelspec": {
   "display_name": "Python 3 (ipykernel)",
   "language": "python",
   "name": "python3"
  },
  "language_info": {
   "codemirror_mode": {
    "name": "ipython",
    "version": 3
   },
   "file_extension": ".py",
   "mimetype": "text/x-python",
   "name": "python",
   "nbconvert_exporter": "python",
   "pygments_lexer": "ipython3",
   "version": "3.9.7"
  }
 },
 "nbformat": 4,
 "nbformat_minor": 5
}
