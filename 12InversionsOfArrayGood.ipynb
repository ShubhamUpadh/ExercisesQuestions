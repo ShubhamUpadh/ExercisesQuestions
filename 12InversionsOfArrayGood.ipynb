{
 "cells": [
  {
   "cell_type": "code",
   "execution_count": null,
   "id": "5e300a4e",
   "metadata": {},
   "outputs": [],
   "source": [
    "Given an array of N integers, count the inversion of the array\n",
    "\n",
    "What is an inversion of an array? Definition: for all i & j < size of array, if i < j then you have to find\n",
    "pair (A[i],A[j]) such that A[j] < A[i].\n",
    "def inversions(arr):\n",
    "    count = 0\n",
    "    for i in range(len(arr)):\n",
    "        for j in range(i+1,len(arr)):\n",
    "            if arr[i] > arr[j]:\n",
    "                count += 1\n",
    "    return count"
   ]
  }
 ],
 "metadata": {
  "kernelspec": {
   "display_name": "Python 3 (ipykernel)",
   "language": "python",
   "name": "python3"
  },
  "language_info": {
   "codemirror_mode": {
    "name": "ipython",
    "version": 3
   },
   "file_extension": ".py",
   "mimetype": "text/x-python",
   "name": "python",
   "nbconvert_exporter": "python",
   "pygments_lexer": "ipython3",
   "version": "3.9.7"
  }
 },
 "nbformat": 4,
 "nbformat_minor": 5
}
