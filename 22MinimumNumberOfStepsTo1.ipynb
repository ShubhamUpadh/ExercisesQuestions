{
 "cells": [
  {
   "cell_type": "code",
   "execution_count": 10,
   "id": "4516dbbf",
   "metadata": {},
   "outputs": [
    {
     "name": "stdout",
     "output_type": "stream",
     "text": [
      "3\n",
      "3\n",
      "[None, 0, 1, 1, 2, 3, 2, 3, 3]\n",
      "3\n"
     ]
    }
   ],
   "source": [
    "def minStepsToOneRaw(n):\n",
    "    if n == 1:\n",
    "        return 0\n",
    "    div2, div3 = float(\"inf\"), float(\"inf\")\n",
    "    sub1 = minStepsToOneRaw(n-1)\n",
    "    if n % 2 == 0:\n",
    "        div2 = minStepsToOneRaw(n//2)\n",
    "    if n % 3 == 0:\n",
    "        div3 = minStepsToOneRaw(n//3)\n",
    "    return 1 + min(sub1,div2,div3)\n",
    "\n",
    "def minStepsToOneMemoization(n):\n",
    "    array = [None]*(n+1)\n",
    "    def minStepsToOneHelper(n):\n",
    "        if n == 1:\n",
    "            return 0\n",
    "        if array[n] != None:\n",
    "            return array[n]\n",
    "        div2, div3 = float(\"inf\"), float(\"inf\")\n",
    "        sub1 = minStepsToOneRaw(n-1)\n",
    "        if n % 2 == 0:\n",
    "            div2 = minStepsToOneRaw(n//2)\n",
    "        if n % 3 == 0:\n",
    "            div3 = minStepsToOneRaw(n//3)\n",
    "        array[n] = 1 + min(sub1,div2,div3)\n",
    "        return array[n]\n",
    "    return minStepsToOneHelper(n)\n",
    "\n",
    "def minStepsToOneBottomUp(n):\n",
    "    array = [None]*(n+1)\n",
    "    array[1] = 0\n",
    "    for i in range(2,n+1):\n",
    "        array[i] = array[i-1] + 1\n",
    "        if i % 2 == 0:\n",
    "            array[i] = min(array[i],1 + array[i//2])\n",
    "        if i % 3 == 0:\n",
    "            array[i] = min(array[i],1 + array[i//3])\n",
    "    print(array)\n",
    "    return array[n]\n",
    "\n",
    "value = 8\n",
    "print(minStepsToOneRaw(value))\n",
    "print(minStepsToOneMemoization(value))\n",
    "print(minStepsToOneBottomUp(value))\n",
    "\n",
    "        "
   ]
  }
 ],
 "metadata": {
  "kernelspec": {
   "display_name": "Python 3 (ipykernel)",
   "language": "python",
   "name": "python3"
  },
  "language_info": {
   "codemirror_mode": {
    "name": "ipython",
    "version": 3
   },
   "file_extension": ".py",
   "mimetype": "text/x-python",
   "name": "python",
   "nbconvert_exporter": "python",
   "pygments_lexer": "ipython3",
   "version": "3.9.7"
  }
 },
 "nbformat": 4,
 "nbformat_minor": 5
}
