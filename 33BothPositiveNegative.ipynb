{
 "cells": [
  {
   "cell_type": "code",
   "execution_count": 3,
   "id": "554708d4",
   "metadata": {},
   "outputs": [],
   "source": [
    "'''\n",
    "Negative positive number\n",
    "For a given array, find those numbers for which both positive and negative numbers exist\n",
    "O(1) Space complexity\n",
    "'''\n",
    "\n",
    "def negPosNumber(arr):\n",
    "    resArr = []\n",
    "    for i in range(len(arr)):\n",
    "        for j in range(len(arr)):\n",
    "            if i == j:\n",
    "                continue\n",
    "            elif abs(arr[i]) == abs(arr[j]) and abs(arr[i]) not in resArr:\n",
    "                resArr.append(abs(arr[i]))\n",
    "    return resArr\n"
   ]
  },
  {
   "cell_type": "code",
   "execution_count": 5,
   "id": "cddc5c48",
   "metadata": {},
   "outputs": [
    {
     "name": "stdout",
     "output_type": "stream",
     "text": [
      "1 -1 2 -2 3 -3 5 6 -4 4\n",
      "[1, -1, 2, -2, 3, -3, 5, 6, -4, 4]\n"
     ]
    }
   ],
   "source": [
    "arr = list((int(x) for x in input().split(\" \")))\n",
    "print(arr)"
   ]
  },
  {
   "cell_type": "code",
   "execution_count": 6,
   "id": "796e050b",
   "metadata": {},
   "outputs": [
    {
     "name": "stdout",
     "output_type": "stream",
     "text": [
      "[1, 2, 3, 4]\n"
     ]
    }
   ],
   "source": [
    "print(negPosNumber(arr))"
   ]
  },
  {
   "cell_type": "code",
   "execution_count": null,
   "id": "6185d478",
   "metadata": {},
   "outputs": [],
   "source": [
    "def midPointFinder(arr):\n",
    "    if arr[0] >= 0 or arr[-1] <= 0:\n",
    "        return -1\n",
    "    low,high = 0, len(arr) - 1\n",
    "    while low <= high:\n",
    "        mid = (low+high) // 2\n",
    "        if arr[]\n",
    "def negPosNumber(arr):\n",
    "    arr.sort()\n",
    "    \n",
    "    mP = midPointFinder(arr)\n",
    "    \n",
    "    if mp == -1:\n",
    "        return []\n",
    "    \n",
    "    \n",
    "    low, high = 0, len(arr) - 1\n",
    "    \n",
    "    while low <= high:\n",
    "        mid = (low+high)//2\n",
    "        "
   ]
  }
 ],
 "metadata": {
  "kernelspec": {
   "display_name": "Python 3 (ipykernel)",
   "language": "python",
   "name": "python3"
  },
  "language_info": {
   "codemirror_mode": {
    "name": "ipython",
    "version": 3
   },
   "file_extension": ".py",
   "mimetype": "text/x-python",
   "name": "python",
   "nbconvert_exporter": "python",
   "pygments_lexer": "ipython3",
   "version": "3.9.7"
  }
 },
 "nbformat": 4,
 "nbformat_minor": 5
}
