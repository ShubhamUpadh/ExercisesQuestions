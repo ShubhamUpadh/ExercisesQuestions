{
 "cells": [
  {
   "cell_type": "code",
   "execution_count": null,
   "id": "a0c029d5",
   "metadata": {},
   "outputs": [],
   "source": [
    "#https://leetcode.com/problems/minimum-length-of-string-after-deleting-similar-ends/\n",
    "def minimumLength(self, s: str) -> int:\n",
    "    if len(s) == 0 or s[0] != s[-1]:\n",
    "        return len(s)\n",
    "    start, end = 0, len(s) - 1\n",
    "    while start < end:\n",
    "        if s[start] == s[end]:\n",
    "            currChar = s[start]\n",
    "            while start < len(s) and s[start] == currChar :\n",
    "                start += 1\n",
    "            while end > -1 and  s[end] == currChar:\n",
    "                end -= 1\n",
    "            #print(s[start:end + 1],start,end)\n",
    "        else:\n",
    "            break\n",
    "    if end < start:\n",
    "        return 0\n",
    "    else:\n",
    "        return end - start + 1\n",
    "\n"
   ]
  }
 ],
 "metadata": {
  "kernelspec": {
   "display_name": "Python 3 (ipykernel)",
   "language": "python",
   "name": "python3"
  },
  "language_info": {
   "codemirror_mode": {
    "name": "ipython",
    "version": 3
   },
   "file_extension": ".py",
   "mimetype": "text/x-python",
   "name": "python",
   "nbconvert_exporter": "python",
   "pygments_lexer": "ipython3",
   "version": "3.9.7"
  }
 },
 "nbformat": 4,
 "nbformat_minor": 5
}
