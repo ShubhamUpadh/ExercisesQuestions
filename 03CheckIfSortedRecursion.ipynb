{
 "cells": [
  {
   "cell_type": "code",
   "execution_count": null,
   "id": "1940095a",
   "metadata": {},
   "outputs": [],
   "source": [
    "def isSortedHelper(arr,flag):\n",
    "    if len(arr) == 1:\n",
    "        return True\n",
    "    currFlag = arr[0] < arr[1]\n",
    "    return False if currFlag != flag else isSortedHelper(arr[1:],flag)\n",
    "\n",
    "def isSorted(arr):\n",
    "    if len(arr) <= 2:\n",
    "        return True\n",
    "    flag = arr[0] < arr[1]\n",
    "    return isSortedHelper(arr[1:],flag)    "
   ]
  }
 ],
 "metadata": {
  "kernelspec": {
   "display_name": "Python 3 (ipykernel)",
   "language": "python",
   "name": "python3"
  },
  "language_info": {
   "codemirror_mode": {
    "name": "ipython",
    "version": 3
   },
   "file_extension": ".py",
   "mimetype": "text/x-python",
   "name": "python",
   "nbconvert_exporter": "python",
   "pygments_lexer": "ipython3",
   "version": "3.9.7"
  }
 },
 "nbformat": 4,
 "nbformat_minor": 5
}
