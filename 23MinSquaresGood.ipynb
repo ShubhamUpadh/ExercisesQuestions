{
 "cells": [
  {
   "cell_type": "code",
   "execution_count": null,
   "id": "fc66bfd8",
   "metadata": {},
   "outputs": [
    {
     "name": "stdout",
     "output_type": "stream",
     "text": [
      "100\n"
     ]
    }
   ],
   "source": [
    "import time\n",
    "def minSquares(n):\n",
    "    if n == 0:\n",
    "        return 0\n",
    "    minVal = float(\"inf\")\n",
    "    for i in range(int(n**0.5),0,-1):\n",
    "        minVal = min(minVal, 1 + minSquares(n-i*i))\n",
    "    return minVal\n",
    "t1 = time.time()\n",
    "print(minSquares(int(input())))\n",
    "print(time.time()-t1)"
   ]
  },
  {
   "cell_type": "code",
   "execution_count": 11,
   "id": "f88f94e4",
   "metadata": {},
   "outputs": [
    {
     "name": "stdout",
     "output_type": "stream",
     "text": [
      "4\n",
      "1 1\n",
      "2 2\n",
      "3 3\n",
      "4 1\n",
      "1\n",
      "1.1000802516937256\n"
     ]
    }
   ],
   "source": [
    "import time\n",
    "def minSquaresMemoization(n):\n",
    "    array = [None]*(n+1)\n",
    "    def minSquaresHelper(n):\n",
    "        if n == 0:\n",
    "            return 0\n",
    "        if array[n] is not None:\n",
    "            return array[n]\n",
    "        minVal = float(\"inf\")\n",
    "        for i in range(1,int(n**0.5)+1):\n",
    "            minVal = min(minVal, 1 + minSquaresHelper(n-i*i))\n",
    "        array[n] = minVal\n",
    "        print(n,minVal)\n",
    "        return array[n]\n",
    "    minSquaresHelper(n)\n",
    "    return array[n]\n",
    "t2 = time.time()\n",
    "print(minSquaresMemoization(int(input())))\n",
    "print(time.time()-t2)        "
   ]
  },
  {
   "cell_type": "code",
   "execution_count": 11,
   "id": "3f0c3712",
   "metadata": {},
   "outputs": [
    {
     "name": "stdout",
     "output_type": "stream",
     "text": [
      "2\n"
     ]
    }
   ],
   "source": [
    "def minStepsTo1(n):\n",
    "    #Implement Your Code Here\n",
    "    dp = [None]*(n+1)\n",
    "    dp[0],dp[1] = 0,1\n",
    "    for i in range(n+1):\n",
    "        if i**0.5 == int(i**0.5):\n",
    "            dp[i] = 1\n",
    "    if dp[n] != None:\n",
    "        return dp[n]\n",
    "    for i in range(2,n+1):\n",
    "        if dp[i] !=1:\n",
    "            minVal = float(\"inf\")\n",
    "            for j in range(1,int(i**0.5)+1):\n",
    "                #print(dp[i-j**2])\n",
    "                minVal = min(minVal,1+dp[i-j**2])\n",
    "            dp[i] = minVal\n",
    "    return dp[n]\n",
    "print(minStepsTo1(18))"
   ]
  }
 ],
 "metadata": {
  "kernelspec": {
   "display_name": "Python 3 (ipykernel)",
   "language": "python",
   "name": "python3"
  },
  "language_info": {
   "codemirror_mode": {
    "name": "ipython",
    "version": 3
   },
   "file_extension": ".py",
   "mimetype": "text/x-python",
   "name": "python",
   "nbconvert_exporter": "python",
   "pygments_lexer": "ipython3",
   "version": "3.9.7"
  }
 },
 "nbformat": 4,
 "nbformat_minor": 5
}
