{
 "cells": [
  {
   "cell_type": "code",
   "execution_count": null,
   "id": "cd8a2cc1",
   "metadata": {},
   "outputs": [],
   "source": [
    "def Leaders(arr):\n",
    "    if len(arr) < 1:\n",
    "        return\n",
    "    retList = [arr[-1]]\n",
    "    currMax = arr[-1]\n",
    "    for i in range(len(arr)-2,-1,-1):\n",
    "        if currMax < arr[i]:\n",
    "            retList.append(arr[i])\n",
    "            currMax = arr[i]\n",
    "    for i in range(len(retList)-1,-1.-1):\n",
    "        print(retList[i], end =\" \")"
   ]
  }
 ],
 "metadata": {
  "kernelspec": {
   "display_name": "Python 3 (ipykernel)",
   "language": "python",
   "name": "python3"
  },
  "language_info": {
   "codemirror_mode": {
    "name": "ipython",
    "version": 3
   },
   "file_extension": ".py",
   "mimetype": "text/x-python",
   "name": "python",
   "nbconvert_exporter": "python",
   "pygments_lexer": "ipython3",
   "version": "3.9.7"
  }
 },
 "nbformat": 4,
 "nbformat_minor": 5
}
